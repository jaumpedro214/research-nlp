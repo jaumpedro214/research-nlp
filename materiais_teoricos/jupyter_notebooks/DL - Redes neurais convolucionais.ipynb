{
  "nbformat": 4,
  "nbformat_minor": 0,
  "metadata": {
    "colab": {
      "name": "redes_neurais_convolucionais.ipynb",
      "provenance": [],
      "collapsed_sections": []
    },
    "kernelspec": {
      "name": "python3",
      "display_name": "Python 3"
    },
    "accelerator": "GPU"
  },
  "cells": [
    {
      "cell_type": "markdown",
      "metadata": {
        "id": "WekxFfz1td--"
      },
      "source": [
        "# Redes Neurais Convolucionais\n",
        "\n",
        "\n"
      ]
    },
    {
      "cell_type": "markdown",
      "metadata": {
        "id": "RDQbK3q7vxc3"
      },
      "source": [
        "Redes Neurais Profundas clássicas foram capazes de resolver uma variedade grande de problemas, incluindo problemas com padrões complexos de decifrar, entretanto, apresentavam uma dificuldade particular em algumas tarefas simples para o ser humano, como reconhecer rostos, objetos, palavras, entre outros. Grande parte dessa dificuldade se dá pelo fato de camadas totalmente conectadas (*fully connected*) se basearem em combinações lineares, que ignoram totalmente o posicionamento dos dados entre si, fator muito importante para as tarefas citadas.\n",
        "\n",
        "A solução para esse problema veio com a criação das **redes neurais convolucionais**, que baseiam-se na arquitetura do cérebro dos animais. Percebeu-se que o procedimento de visualização cerebral de uma imagem não era feito pixel-a-pixel, como em uma rede tradicional, mas sim com uma série de respostas locais a padrões pré-definidos, como linhas horizontais, verticais, inclinadas e curvas simples. Essas respostas são, então, enviadas para os neurônios seguintes, que fazem o mesmo procedimento, só que agora, ao invés de operar sob a imagem original recebida, o fazem sobre as ativações enviadas dos neurônios anteriores, conseguindo compor a informação enviada em algo mais complexo (quadrados, triângulos, círculos, etc.). O processo continua até a última camada de neurônios. Dessa forma, qualquer forma complexa pode ser captada e representada pelo cerébro.\n",
        "\n",
        "<a href=\"https://ibb.co/swvSLDx\"><img src=\"https://i.ibb.co/J7RLXb6/resposta-neuronio-cnn.jpg\" alt=\"resposta-neuronio-cnn\" border=\"0\"></a>\n",
        "<figcaption>Figura 1 - Representaçãp da visão.</figcaption>\n",
        "\n",
        "A tradução matemática desse comportamento cerebral se dá por meio da operação de **convolução**.\n",
        "\n",
        "\n",
        "\n",
        "\n"
      ]
    },
    {
      "cell_type": "markdown",
      "metadata": {
        "id": "Vz1f4haFPO7l"
      },
      "source": [
        "## A operação de Convolução"
      ]
    },
    {
      "cell_type": "markdown",
      "metadata": {
        "id": "nHpjbMXpPSk0"
      },
      "source": [
        "A convolução é uma operação matemática entre duas funções, $f$ e $g$, resultando em uma nova função $h$, tal que, $h(x)$ é o resultado da soma dos produtos das funções quando a $g$ é deslocada $x$ unidades para a direita. \n",
        "Isto é definido da seguinte forma:\n",
        "\n",
        "$\\displaystyle h(x) = \\int_{-\\infty }^{\\infty } f(u)\\cdot g(x - u)du$\n",
        "\n",
        "A propriedade mais importante dessa operação no contexto de redes neurais é o fato que, o valor de $h(x)$ depende do quão coincidentes, ou seja, parecidas, são as funções $f$ e $g$ naquele ponto, sendo máximo no ponto de maior semelhança. \n",
        "Portanto, podemos definir uma uma função $g$, geralmente chamada de filtro, de tal forma que possamos encontrar o grau de similaridade com $f$, geralmente chamada de sinal, em cada ponto do seu domínio. "
      ]
    },
    {
      "cell_type": "markdown",
      "metadata": {
        "id": "kIv9C6GWh_LF"
      },
      "source": [
        "<a href='https://postimg.cc/YGLRTvS5' target='_blank'><img src='https://i.postimg.cc/RFXY6fxZ/conv.gif' border='0' alt='conv' width='500' height=200/></a>\n",
        "<figcaption>Figura 2 - Exemplo de convolução 1d</figcaption>"
      ]
    },
    {
      "cell_type": "markdown",
      "metadata": {
        "id": "MKtrBTbWkkBG"
      },
      "source": [
        "Como os dados tratados em problemas de machine learning são discretos (vetores, matrizes, tensores), utilizamos a versão discreta da convolução.\n",
        "\n",
        "$\\displaystyle h(k) = \\sum_{j=-\\infty}^{\\infty} f(j)\\cdot g(k - j)$\n",
        "\n",
        "---"
      ]
    },
    {
      "cell_type": "markdown",
      "metadata": {
        "id": "0xFDbbpYl0Sv"
      },
      "source": [
        "## Aplicando a Convolução"
      ]
    },
    {
      "cell_type": "markdown",
      "metadata": {
        "id": "kv_k1CKKKcQ5"
      },
      "source": [
        "Para entender melhor a operação, vamos fazer alguns exemplos."
      ]
    },
    {
      "cell_type": "markdown",
      "metadata": {
        "id": "V6hzKc9GrL8p"
      },
      "source": [
        "Com a convolução, podemos criar um programa para detectar sequências crescentes em um conjunto de dados (convolução 1D). Para isso, vamos definir um filtro que represente uma \"subida\" e uma sequência de valores."
      ]
    },
    {
      "cell_type": "code",
      "metadata": {
        "colab": {
          "base_uri": "https://localhost:8080/",
          "height": 281
        },
        "id": "aSsZtfdRl6LG",
        "outputId": "33af98c9-7c0d-4c5b-a946-b78f091602f5"
      },
      "source": [
        "import numpy as np\n",
        "import matplotlib.pyplot as plt\n",
        "\n",
        "fig, axs = plt.subplots(1,2) # variáveis para plotagem\n",
        "\n",
        "filtro = np.array([-1, 0, 1]) # filtro de tamanho 3 representando uma subida\n",
        "y = np.array([ x**2 + x - 1 for x in np.linspace(-2,2,20) ]) # conjunto de dados\n",
        "\n",
        "axs[0].plot(filtro, 'red')\n",
        "axs[0].set_title(\"Filtro\")\n",
        "axs[1].plot(y)\n",
        "axs[1].set_title(\"Dados\")\n",
        "plt.show()"
      ],
      "execution_count": null,
      "outputs": [
        {
          "output_type": "display_data",
          "data": {
            "image/png": "[encoded data removed]",
            "text/plain": [
              "<Figure size 432x288 with 2 Axes>"
            ]
          },
          "metadata": {
            "needs_background": "light"
          }
        }
      ]
    },
    {
      "cell_type": "markdown",
      "metadata": {
        "id": "CH1kz6liuSFF"
      },
      "source": [
        "A biblioteca **numpy** já possui uma implementação da convolução. Por padrão, as bibliotecas operam com o filtro invertido. Para corrigir isso, basta multiplica-lo por -1."
      ]
    },
    {
      "cell_type": "code",
      "metadata": {
        "colab": {
          "base_uri": "https://localhost:8080/",
          "height": 281
        },
        "id": "GmtEz3MquNw5",
        "outputId": "faa299e4-9239-4955-c806-b7a15fdc1bd9"
      },
      "source": [
        "y_filtro = np.convolve(y, -1*filtro, mode=\"same\")\n",
        "\n",
        "# eixos\n",
        "plt.axhline(0,color='gray', linestyle='-.')\n",
        "\n",
        "plt.plot(y, label=\"Valores\")\n",
        "plt.plot(y_filtro, '-o', label=\"Convolução\")\n",
        "plt.title(\"Valores da convolução\")\n",
        "plt.legend()\n",
        "plt.show()"
      ],
      "execution_count": null,
      "outputs": [
        {
          "output_type": "display_data",
          "data": {
            "image/png": "[encoded data removed]",
            "text/plain": [
              "<Figure size 432x288 with 1 Axes>"
            ]
          },
          "metadata": {
            "needs_background": "light"
          }
        }
      ]
    },
    {
      "cell_type": "markdown",
      "metadata": {
        "id": "w_CP8kP5zmH4"
      },
      "source": [
        "Como podemos ver, o resultado da convolução é positivo quando a função está num intervalo crescente e negativo caso contrário. Essa informação é bem mais expressiva que os dados originais, que só contem valores avulsos da função, já que agora conseguimos indicar numéricamente a presença de padrões complexos.\n",
        "\n",
        "Também podemos começar a notar um problema, como os valores são discretos, o filtro é incapaz de operar nas bordas, já que a função não possui valores mais à esquerda nem mais à direita. De fato, a operação de convolução pode possuir a característica de diminuir a dimensão do dado original, deixando-o mais denso.\n",
        "\n",
        "---"
      ]
    },
    {
      "cell_type": "markdown",
      "metadata": {
        "id": "D2hSY-pO2TYi"
      },
      "source": [
        "Prosseguindo, vamos aplicar esses mesmos conceitos no contexto de processamento de imagens (convolução 2D).\n",
        "\n",
        "<a target='_blank'><img src='https://icecreamlabs.com/wp-content/uploads/2018/08/33-con.gif' border='0' alt='conv' width=263 height=192/></a>\n",
        "<figcaption>Figura 3 - Exemplo de convolução 2D discreta </figcaption>\n",
        "\n",
        "\n",
        "\n",
        "A área de processamento de imagens foi a mais impactada pela criação das CNN (convolutional neural network), onde praticamente substituiram as redes neurais clássicas. Vamos ver como filtros são capazes de indicar padrões nas imagens.\n",
        "\n"
      ]
    },
    {
      "cell_type": "code",
      "metadata": {
        "colab": {
          "base_uri": "https://localhost:8080/"
        },
        "id": "2XiV0JWt0F3O",
        "outputId": "19a1640a-2522-4a0a-f1ed-7487e17d8545"
      },
      "source": [
        "# Baixando a imagem honeycomb.png\n",
        "!curl https://image.flaticon.com/icons/png/128/393/393101.png --output honeycomb.png"
      ],
      "execution_count": null,
      "outputs": [
        {
          "output_type": "stream",
          "name": "stdout",
          "text": [
            "  % Total    % Received % Xferd  Average Speed   Time    Time     Time  Current\n",
            "                                 Dload  Upload   Total   Spent    Left  Speed\n",
            "100  1883  100  1883    0     0   7562      0 --:--:-- --:--:-- --:--:--  7592\n"
          ]
        }
      ]
    },
    {
      "cell_type": "code",
      "metadata": {
        "colab": {
          "base_uri": "https://localhost:8080/",
          "height": 281
        },
        "id": "oefqhPd13wUh",
        "outputId": "0e771192-44ac-4801-9ac8-a3c154ac1883"
      },
      "source": [
        "imagem = np.mean( plt.imread('honeycomb.png'), axis=(2) ) # abrindo a imagem e\n",
        "                                                          # tornando preto e branco\n",
        "plt.imshow(imagem, cmap='gray')\n",
        "plt.title(\"Imagem - Favo de mel\")\n",
        "plt.show()"
      ],
      "execution_count": null,
      "outputs": [
        {
          "output_type": "display_data",
          "data": {
            "image/png": "[encoded data removed]",
            "text/plain": [
              "<Figure size 432x288 with 1 Axes>"
            ]
          },
          "metadata": {
            "needs_background": "light"
          }
        }
      ]
    },
    {
      "cell_type": "code",
      "metadata": {
        "colab": {
          "base_uri": "https://localhost:8080/",
          "height": 228
        },
        "id": "DgKIltdD-XVT",
        "outputId": "c208f8af-1ca9-4b4c-da64-e9e0132d6972"
      },
      "source": [
        "# Importando a operação de convolução\n",
        "from scipy.signal import convolve2d\n",
        "\n",
        "# Definindo alguns filtros para a convolução\n",
        "# Os filtros são \"normalizados\", ou seja, a soma de todos os seus valores é 0\n",
        "f1 = np.array([ [ 1/12, 1/12, 1/12, -1/13, -1/13],\n",
        "                [ 1/12, 1/12, -1/13, -1/13, -1/13],\n",
        "                [ 1/12, -1/13, -1/13, -1/13, 1/12],\n",
        "                [ -1/13, -1/13, -1/13, 1/12, 1/12],\n",
        "                [ -1/13, -1/13, 1/12, 1/12, 1/12]] )\n",
        "f2 = np.array([ [1/10, -1/15, -1/15, -1/15, 1/10],\n",
        "                [1/10, -1/15, -1/15, -1/15, 1/10], \n",
        "                [1/10, -1/15, -1/15, -1/15, 1/10],\n",
        "                [1/10, -1/15, -1/15, -1/15, 1/10],\n",
        "                [1/10, -1/15, -1/15, -1/15, 1/10]] )\n",
        "f3 = np.array([ [ 1/10, 1/10, 1/10, 1/10, 1/10],\n",
        "                [ -1/15, -1/15, -1/15, -1/15, -1/15],\n",
        "                [ -1/15, -1/15, -1/15, -1/15, -1/15],\n",
        "                [ -1/15, -1/15, -1/15, -1/15, -1/15],\n",
        "                [ 1/10, 1/10, 1/10, 1/10, 1/10],])\n",
        "\n",
        "fig, axs = plt.subplots(1,3, figsize=(10,30)) # variáveis para plotagem\n",
        "axs[0].imshow(f1, cmap='gray')\n",
        "axs[0].set_title(\"Filtro 1 - Linha inclinada\")\n",
        "axs[1].imshow(f2, cmap='gray')\n",
        "axs[1].set_title(\"Filtro 2 - Linha Vertical\")\n",
        "axs[2].imshow(f3, cmap='gray')\n",
        "axs[2].set_title(\"Filtro 3 - Linha Horizontal\")\n",
        "plt.show()"
      ],
      "execution_count": null,
      "outputs": [
        {
          "output_type": "display_data",
          "data": {
            "image/png": "[encoded data removed]",
            "text/plain": [
              "<Figure size 720x2160 with 3 Axes>"
            ]
          },
          "metadata": {
            "needs_background": "light"
          }
        }
      ]
    },
    {
      "cell_type": "code",
      "metadata": {
        "colab": {
          "base_uri": "https://localhost:8080/",
          "height": 228
        },
        "id": "LZ2gCRe3GFT3",
        "outputId": "4dd6557e-92cf-4a68-fd96-6a43ddb8692d"
      },
      "source": [
        "imagem_f1 = convolve2d(imagem, f1)\n",
        "imagem_f2 = convolve2d(imagem, f2)\n",
        "imagem_f3 = convolve2d(imagem, f3)\n",
        "\n",
        "fig, axs = plt.subplots(1,3, figsize=(10,30)) # variáveis para plotagem\n",
        "axs[0].imshow(imagem_f1, cmap='gray')\n",
        "axs[0].set_title(\"Aplicação do filtro 1\")\n",
        "axs[1].imshow(imagem_f2, cmap='gray')\n",
        "axs[1].set_title(\"Aplicação do filtro 2\")\n",
        "axs[2].imshow(imagem_f3, cmap='gray')\n",
        "axs[2].set_title(\"Aplicação do filtro 3\")\n",
        "plt.show()"
      ],
      "execution_count": null,
      "outputs": [
        {
          "output_type": "display_data",
          "data": {
            "image/png": "[encoded data removed]",
            "text/plain": [
              "<Figure size 720x2160 with 3 Axes>"
            ]
          },
          "metadata": {
            "needs_background": "light"
          }
        }
      ]
    },
    {
      "cell_type": "markdown",
      "metadata": {
        "id": "YVnM_wg4QIL1"
      },
      "source": [
        "Como podemos ver acima, cada filtro responde positivamente, regiões mais claras, quando encontra padrões similares a ele, e negativamente/neutramente caso contrário. A esse conjuto de ativações, damos o nome de **feature map**.Como explicado na introdução, esse comportamento permite a criação de detectores de padrão, extremamente importantes na composição de uma imagem."
      ]
    },
    {
      "cell_type": "markdown",
      "metadata": {
        "id": "il821MHMUMV-"
      },
      "source": [
        "*Obs. Diz-se que uma convolução é n-dimensional quando seu filtro se desloca por n dimensões, ou seja, um filtro 1D pode ser aplicado em um contexto 2D*\n",
        "\n",
        "*Obs. Um ponto muito importante na dinâmica das CNNs é a redução de dimensionalidade. A depender da aplicação, pode-se ou não desejar manter os efeitos da diminuição de dimensionalidade causados pelos filtros*"
      ]
    },
    {
      "cell_type": "markdown",
      "metadata": {
        "id": "XjL688w5cLwr"
      },
      "source": [
        "## Aplicações e vantagens das CNN"
      ]
    },
    {
      "cell_type": "markdown",
      "metadata": {
        "id": "5mlrCLwgf4sU"
      },
      "source": [
        "No contexto das redes neurais, surge a chamada **camada convolucional**, responsável por aplicar um conjunto de filtros convolucionais aos dados de entrada. Essas camadas são utilizadas para aprender os padrões intríscecos dos dados, refinando a informação inicial em features mais representativas.\n",
        "\n",
        "Uma consequência disso é que, diferentemente de uma rede MLP, onde a mudança na ordem dos inputs acarreta em mudanças drásticas no output, uma rede convolucional possui a característica de ser *shift invariant*. Essa propriedade garante que, mesmo que as features dos inputs sejam transladadas espacialmente, o output não irá mudar muito, já que a rede responde sempre a padrões locais, independentemente da sua posição.\n",
        "\n",
        "<img src=\"https://i.ibb.co/WnW551q/Shift-invariant.jpg\" \n",
        "width=414 height=370\n",
        "alt=\"Shift-invariant-2\" border=\"0\"></a>\n",
        "<figcaption> Figura 4 - Invariância espacial nas redes convolucionais </figcaption>\n",
        "\n",
        "  Analogamente aos pesos de uma *fully connected*, o processo de aprendizado ocorre por meio do algoritmo de otimização *Backpropagation*, atualizando os filtros a cada iteração.\n",
        "\n",
        "Os outputs das redes convolucionais profundas podem ser usados de várias maneiras. Como seletores de padrões, por exemplo, onde a rede é treinada para reconhecer padrões de alto nível que servem de entrada para um MLP, responsável por uma tarefa de classificação ou regressão.\n",
        "\n",
        "\n",
        "<a target='_blank'><img src='https://www.venturus.org.br/wp-content/uploads/2019/12/CNN.png' border='0' alt='conv' width=450 height=250/></a>\n",
        "<figcaption>Figura 5 - Exemplo de classificador com rede convolucional</figcaption>\n",
        "\n",
        "*Exemplo de Rede neural convolucional + MLP para classificação*\n",
        "\n",
        "Outra possível aplicação é como geradora de dados, como imagens, textos e áudio. Neste caso, a rede é totalmente convolucional.\n",
        "\n",
        "<a target='_blank'><img src='https://thegradient.pub/content/images/2018/05/SCNet.png' border='0' alt='conv' width='800' height=150/></a>\n",
        "<figcaption> Figura 6 - Exemplo de semantic segmentation</figcaption>\n"
      ]
    },
    {
      "cell_type": "markdown",
      "metadata": {
        "id": "89LqPe0-zwX-"
      },
      "source": [
        "Além da diversidade de aplicações, as CNN trazem uma outras vantagens. Por trabalharem com filtros visuais dotados de significado, os pesos da rede podem ser facilmente plotados e interpretados, minimizando o problema das *black box*, recorrente em arquiteturas MLP.\n",
        "\n",
        "Outro ponto importante é que tarefas similares irão possuir os mesmos padrões de baixo-nível, ou seja, caso queiramos treinar uma rede para detectar a marca de um carro, podemos reutilizar com facilidade uma rede que detecta se há um carro na imagem (transfer learning), pois ambas, a nível incial, estarão procurando as mesmas formas.\n",
        "\n",
        "\n",
        "Você pode visualizar um pouco melhor como as CNNs funcionam, nesse [site](https://poloclub.github.io/cnn-explainer/)."
      ]
    },
    {
      "cell_type": "markdown",
      "metadata": {
        "id": "5BfWrtvTAn5r"
      },
      "source": [
        "## Implementando CNNs com o Keras\n",
        "\n"
      ]
    },
    {
      "cell_type": "markdown",
      "metadata": {
        "id": "tyxvTL6zJhEl"
      },
      "source": [
        "A partir daqui, usaremos a API do Keras com o tensorflow para inplementar alguns exemplos de CNN."
      ]
    },
    {
      "cell_type": "markdown",
      "metadata": {
        "id": "gPjEKP2CUnPb"
      },
      "source": [
        "### A camada convolucional"
      ]
    },
    {
      "cell_type": "markdown",
      "metadata": {
        "id": "ntcPTS2qLXeA"
      },
      "source": [
        "No keras, uma camada convolucional segue, para a maioria dos casos, a seguinte estrutura:\n",
        "\n",
        "```python \n",
        "Conv2D(filters, kernel_size, activation, padding, strides)\n",
        "```\n",
        "Onde:\n",
        "- **filters** indica quantos filtros serão treinados na camada\n",
        "- **kernel_size** indica o formato dos filtros\n",
        "- **activation** indica a função de ativação da camada\n",
        "- **padding** escolhe a política de preenchimento das bordas\n",
        "- **strides** indica o espaçamento entre cada aplicação do filtro"
      ]
    },
    {
      "cell_type": "markdown",
      "metadata": {
        "id": "e9tK2u9YNKuc"
      },
      "source": [
        "Para utilizar uma camada de forma avulsa no Keras basta instancia-la com o método adequado e passar os dados como parâmetro para o objeto."
      ]
    },
    {
      "cell_type": "code",
      "metadata": {
        "id": "XjxmU6VrQj3C"
      },
      "source": [
        "from tensorflow import keras\n",
        "\n",
        "# instanciando \n",
        "camada = keras.layers.Conv2D( 3, (5,5), activation='relu' )\n",
        "# aplicando\n",
        "imagem_ = camada( imagem.reshape(1, 128, 128, 1) ) # Reshape necessário para a camada conv2d\n",
        "imagem_.shape"
      ],
      "execution_count": null,
      "outputs": []
    },
    {
      "cell_type": "markdown",
      "metadata": {
        "id": "btvhLEHnPvzz"
      },
      "source": [
        "**Entendendo um pouco mais sobre a redução de dimensionalidade**"
      ]
    },
    {
      "cell_type": "markdown",
      "metadata": {
        "id": "ML0SyiKhU0C0"
      },
      "source": [
        "Na camada acima, temos 3 filtros de tamanho 5x5, resultando na dimensão final de (124,124,3). Essa redução de dimensionalidade, como citado acima, é resultado da aplicação dos filtros sobre a imagem original.\n",
        "\n",
        "Caso queiramos remover esses efeitos, podemos atribuir *padding=\"same\"*. A imagem então, ganhará uma borda externa preenchida, de modo a preservar as dimensões atuais.\n",
        "\n",
        "<a target='_blank'><img src='https://miro.medium.com/max/1332/1*e4jJGDUENyF9A93q1qtSew.png' border='0' alt='conv' width='450' height=150/></a>\n",
        "<figcaption> Figura 7 - Exemplo de zero padding </figcaption>"
      ]
    },
    {
      "cell_type": "code",
      "metadata": {
        "colab": {
          "base_uri": "https://localhost:8080/"
        },
        "id": "OnQCnSc2VdwM",
        "outputId": "0105e1b3-344b-484e-b8e5-f180c47bd0f5"
      },
      "source": [
        "# instanciando com padding\n",
        "camada = keras.layers.Conv2D( 3, (5,5), activation='relu', padding=\"same\" )\n",
        "# aplicando a convolucao\n",
        "imagem_ = camada( imagem.reshape(1, 128, 128, 1) )\n",
        "imagem_.shape"
      ],
      "execution_count": null,
      "outputs": [
        {
          "output_type": "execute_result",
          "data": {
            "text/plain": [
              "TensorShape([1, 128, 128, 3])"
            ]
          },
          "metadata": {
            "tags": []
          },
          "execution_count": 8
        }
      ]
    },
    {
      "cell_type": "markdown",
      "metadata": {
        "id": "Tu4rbBBRZn19"
      },
      "source": [
        "Outro hiperparâmetro responsável pela dimensionalidade resultante da CNN é o *stride*, que representa o tamanho do salto dado pelo filtro ao longo dos dados. Seu valor padrão é 1, para o caso 1d, e (1,1) para o caso 2d.\n",
        "\n",
        "\n",
        "<a target='_blank'><img src='https://miro.medium.com/max/2340/1*Fw-ehcNBR9byHtho-Rxbtw.gif' border='0' alt='conv' width=234 height=168/></a>\n",
        "<a target='_blank'><img src='https://qph.fs.quoracdn.net/main-qimg-d552433faa8363df84c53b905443a556' border='0' alt='conv' width=234 height=168/></a>\n",
        "<figcaption> Figuras 8 e 9 - Representação de convolução com stride (1,1) e (2,2) </figcaption>"
      ]
    },
    {
      "cell_type": "markdown",
      "metadata": {
        "id": "RgZhbEinWOb8"
      },
      "source": [
        "Para todos os casos, a dimensão de saída da camada convolucional segue a seguinte relação:\n",
        "\n",
        "$n_{out} = \\left \\lfloor \\frac{n_{in} + 2p - k}{s} \\right \\rfloor$+1\n",
        "\n",
        "- $n_{in}$ Dimensão de entrada\n",
        "- $p$ tamanho do padding\n",
        "- $k$ tamanho do kernel\n",
        "- $s$ tamanho do stride "
      ]
    },
    {
      "cell_type": "markdown",
      "metadata": {
        "id": "UrsMsRL6JilN"
      },
      "source": [
        "### A camada de pooling"
      ]
    },
    {
      "cell_type": "markdown",
      "metadata": {
        "id": "bpt0FAWaJ5cP"
      },
      "source": [
        "Uma das camadas que sempre acompanha a *convolutional layer* nas CNNs é a *pooling layer* (camada de sub-amostragem). Seu principal objetivo é reduzir de a dimensionalidade das features por um fator $k$, aplicando os filtros de forma espaçada sem sobreposição. \n",
        "\n",
        "Os filtros das camadas de pooling não servem para detectar padrões, apenas para reduzir a dimensionalidade dos dados.\n",
        "\n",
        "As camadas de pooling ajudam a deixar os features maps mais comprimidas, diminuindo a redundância de informação, preservando o contexto geral, ao invés do local. Essa transformação funciona como uma técnica de regularização, pois suaviza os detalhes dos dados orignais, além de ajudar a rede a se manter mais *shift invariant*. \n",
        "\n",
        "As técnicas mais famosas de pooling são:\n",
        "- **Max Pooling** \n",
        "Reduz o tamanho dos feature maps por um fator $k$, utiliza a função $\\max(X)$ como filtro.\n",
        "- **Average Pooling** \n",
        "Reduz o tamanho dos feature maps por um fator $k$, utiliza a média dos dados como filtro.\n",
        "- **Global Max Pooling** Reduz os feature maps a um único valor, utiliza a função $\\max(X)$ como filtro.\n",
        "- **Global Average Pooling** Reduz os feature maps a um único valor, utiliza a média dos dados como filtro.\n",
        "\n",
        "<a target='_blank'><img src='https://www.bouvet.no/bouvet-deler/understanding-convolutional-neural-networks-part-1/_/attachment/inline/e60e56a6-8bcd-4b61-880d-7c621e2cb1d5:6595a68471ed37621734130ca2cb7997a1502a2b/Pooling.gif' border='0' alt='conv' width=400 height=222/></a>\n",
        "<figcaption> Figura 10 - Tipos de Pooling </figcaption>"
      ]
    },
    {
      "cell_type": "markdown",
      "metadata": {
        "id": "ePuMHg19ecv3"
      },
      "source": [
        "Vamos visualizar o pooling agindo sobre os feature maps gerados anteriormente."
      ]
    },
    {
      "cell_type": "code",
      "metadata": {
        "id": "LcBkZuy9ekQm",
        "colab": {
          "base_uri": "https://localhost:8080/",
          "height": 474
        },
        "outputId": "c76fb89d-3b8c-4ae2-de33-28f56bbf2ae9"
      },
      "source": [
        "# Instanciando uma camada para reduzir a dimensionalidade em 4x \n",
        "camada_pooling = keras.layers.MaxPool2D(4, dtype='float64')\n",
        "\n",
        "# Juntando os feature maps em um array\n",
        "feature_maps = np.array( [ imagem_f1, imagem_f2, imagem_f3 ] )\n",
        "feature_maps = np.expand_dims(feature_maps, 3)\n",
        "\n",
        "feature_maps_pool = camada_pooling(feature_maps)\n",
        "\n",
        "fig, axs = plt.subplots(1,3, figsize=(10,30)) # variáveis para plotagem\n",
        "axs[0].imshow(imagem_f1, cmap='gray')\n",
        "axs[0].set_title(\"Aplicação do filtro 1\")\n",
        "axs[1].imshow(imagem_f2, cmap='gray')\n",
        "axs[1].set_title(\"Aplicação do filtro 2\")\n",
        "axs[2].imshow(imagem_f3, cmap='gray')\n",
        "axs[2].set_title(\"Aplicação do filtro 3\")\n",
        "fig, axs = plt.subplots(1,3, figsize=(10,30)) # variáveis para plotagem\n",
        "axs[0].imshow(feature_maps_pool[0,:,:,0], cmap='gray')\n",
        "axs[0].set_title(\"Pooling do Feature Map 1\")\n",
        "axs[1].imshow(feature_maps_pool[1,:,:,0], cmap='gray')\n",
        "axs[1].set_title(\"Pooling do Feature Map 2\")\n",
        "axs[2].imshow(feature_maps_pool[2,:,:,0], cmap='gray')\n",
        "axs[2].set_title(\"Pooling do Feature Map 3\")\n",
        "plt.show()\n",
        "print( \"Dimensão original dos dados: {:d}x{:d}\".format(feature_maps.shape[1],\n",
        "                                                       feature_maps.shape[2] )  )\n",
        "print( \"Dimensão final dos dados: {:d}x{:d}\".format(feature_maps_pool.shape[1],\n",
        "                                                    feature_maps_pool.shape[2] )  )"
      ],
      "execution_count": null,
      "outputs": [
        {
          "output_type": "display_data",
          "data": {
            "image/png": "[encoded data removed]",
            "text/plain": [
              "<Figure size 720x2160 with 3 Axes>"
            ]
          },
          "metadata": {
            "tags": [],
            "needs_background": "light"
          }
        },
        {
          "output_type": "display_data",
          "data": {
            "image/png": "[encoded data removed]",
            "text/plain": [
              "<Figure size 720x2160 with 3 Axes>"
            ]
          },
          "metadata": {
            "tags": [],
            "needs_background": "light"
          }
        },
        {
          "output_type": "stream",
          "text": [
            "Dimensão original dos dados: 132x132\n",
            "Dimensão final dos dados: 33x33\n"
          ],
          "name": "stdout"
        }
      ]
    },
    {
      "cell_type": "markdown",
      "metadata": {
        "id": "9QyZi3rGjbqS"
      },
      "source": [
        "Como podemos ver pelas imagens, as features ainda conseguem manter a representatividade dos dados originais mesmo após terem sido reduzidos em 4x.\n",
        "\n",
        "---"
      ]
    },
    {
      "cell_type": "markdown",
      "metadata": {
        "id": "YDozHhpyI-Cn"
      },
      "source": [
        "### Implementando um classificador de imagens"
      ]
    },
    {
      "cell_type": "markdown",
      "metadata": {
        "id": "T4sZWms515-M"
      },
      "source": [
        "Como citado anteriormente, a principal área de aplicação das CNNs é a de processamento de imagens. Para entender um pouco mais do poder dessas redes em tarefas dess tipo, iremos implementar um classificador de imagens."
      ]
    },
    {
      "cell_type": "markdown",
      "metadata": {
        "id": "8EZbVovpPTTc"
      },
      "source": [
        "**Dados do problema**"
      ]
    },
    {
      "cell_type": "markdown",
      "metadata": {
        "id": "WbbJctt7JBZG"
      },
      "source": [
        "Para efetuar a tarefa de classificação, vamos utilizar o dataset CIFAR10, que contém 60.000 imagens RGB 32x32 separadas entre 10 classes diferentes."
      ]
    },
    {
      "cell_type": "code",
      "metadata": {
        "id": "AxHFkZm1zZnj",
        "colab": {
          "base_uri": "https://localhost:8080/"
        },
        "outputId": "383cdc3e-0f72-4e18-9c73-894c263a0e02"
      },
      "source": [
        "from keras.datasets import cifar10  \n",
        "(X_train, y_train), (X_test, y_test) = cifar10.load_data()"
      ],
      "execution_count": null,
      "outputs": [
        {
          "output_type": "stream",
          "name": "stdout",
          "text": [
            "Downloading data from https://www.cs.toronto.edu/~kriz/cifar-10-python.tar.gz\n",
            "170500096/170498071 [==============================] - 2s 0us/step\n",
            "170508288/170498071 [==============================] - 2s 0us/step\n"
          ]
        }
      ]
    },
    {
      "cell_type": "code",
      "metadata": {
        "colab": {
          "base_uri": "https://localhost:8080/"
        },
        "id": "zZkKA3PNKCRG",
        "outputId": "77ccf173-7ebf-463d-fe75-388800703662"
      },
      "source": [
        "print(\"X_train shape:\")\n",
        "print(X_train.shape)\n",
        "print(\"X_test shape:\")\n",
        "print(X_test.shape)"
      ],
      "execution_count": null,
      "outputs": [
        {
          "output_type": "stream",
          "name": "stdout",
          "text": [
            "X_train shape:\n",
            "(50000, 32, 32, 3)\n",
            "X_test shape:\n",
            "(10000, 32, 32, 3)\n"
          ]
        }
      ]
    },
    {
      "cell_type": "code",
      "metadata": {
        "id": "4y_6Hu4wdcij"
      },
      "source": [
        "## Viusualizando algumas imagens\n",
        "\n",
        "np.random.seed(214)\n",
        "indx = np.random.choice( range(len(X_train)), size=10 )\n",
        "fig, axs = plt.subplots( 1, 10, figsize=(20,200) )\n",
        "\n",
        "for (i,ind) in enumerate(indx):\n",
        "  axs[i].imshow( X_train[ind] )\n",
        "  axs[i].axis(\"off\")\n",
        "  axs[i].set_title( f\"Classe {y_train[ind]}\")"
      ],
      "execution_count": null,
      "outputs": []
    },
    {
      "cell_type": "markdown",
      "metadata": {
        "id": "tGRP3ZOpc1pq"
      },
      "source": [
        "Para simplificar a tarefa, selecionaremos apenas 2 classes do dataset, **carros** e **gatos**. "
      ]
    },
    {
      "cell_type": "code",
      "metadata": {
        "id": "sy4GtohJfiZk",
        "colab": {
          "base_uri": "https://localhost:8080/",
          "height": 245
        },
        "outputId": "0e86cc99-e635-41e5-9b41-a7c19b9cf571"
      },
      "source": [
        "# Selecionando as classes 1-carro, 2-gato\n",
        "indices_train = np.argwhere( np.logical_or((y_train.ravel() == 1), (y_train.ravel() == 3)) )\n",
        "indices_test =  np.argwhere( np.logical_or((y_test.ravel() == 1), (y_test.ravel() == 3))   )\n",
        "\n",
        "X_train = X_train[ indices_train ].reshape(-1, 32,32,3)\n",
        "X_test = X_test[ indices_test ].reshape(-1, 32,32,3)\n",
        "\n",
        "# Mapeando 0 -> gato, 1 -> carro\n",
        "y_train = y_train[ indices_train ] == 1\n",
        "y_test = y_test[ indices_test ] == 1"
      ],
      "execution_count": null,
      "outputs": [
        {
          "output_type": "error",
          "ename": "NameError",
          "evalue": "ignored",
          "traceback": [
            "\u001b[0;31m---------------------------------------------------------------------------\u001b[0m",
            "\u001b[0;31mNameError\u001b[0m                                 Traceback (most recent call last)",
            "\u001b[0;32m<ipython-input-3-c6cfa1284a98>\u001b[0m in \u001b[0;36m<module>\u001b[0;34m()\u001b[0m\n\u001b[1;32m      1\u001b[0m \u001b[0;31m# Selecionando as classes 1-carro, 2-gato\u001b[0m\u001b[0;34m\u001b[0m\u001b[0;34m\u001b[0m\u001b[0;34m\u001b[0m\u001b[0m\n\u001b[0;32m----> 2\u001b[0;31m \u001b[0mindices_train\u001b[0m \u001b[0;34m=\u001b[0m \u001b[0mnp\u001b[0m\u001b[0;34m.\u001b[0m\u001b[0margwhere\u001b[0m\u001b[0;34m(\u001b[0m \u001b[0mnp\u001b[0m\u001b[0;34m.\u001b[0m\u001b[0mlogical_or\u001b[0m\u001b[0;34m(\u001b[0m\u001b[0;34m(\u001b[0m\u001b[0my_train\u001b[0m\u001b[0;34m.\u001b[0m\u001b[0mravel\u001b[0m\u001b[0;34m(\u001b[0m\u001b[0;34m)\u001b[0m \u001b[0;34m==\u001b[0m \u001b[0;36m1\u001b[0m\u001b[0;34m)\u001b[0m\u001b[0;34m,\u001b[0m \u001b[0;34m(\u001b[0m\u001b[0my_train\u001b[0m\u001b[0;34m.\u001b[0m\u001b[0mravel\u001b[0m\u001b[0;34m(\u001b[0m\u001b[0;34m)\u001b[0m \u001b[0;34m==\u001b[0m \u001b[0;36m3\u001b[0m\u001b[0;34m)\u001b[0m\u001b[0;34m)\u001b[0m \u001b[0;34m)\u001b[0m\u001b[0;34m\u001b[0m\u001b[0;34m\u001b[0m\u001b[0m\n\u001b[0m\u001b[1;32m      3\u001b[0m \u001b[0mindices_test\u001b[0m \u001b[0;34m=\u001b[0m  \u001b[0mnp\u001b[0m\u001b[0;34m.\u001b[0m\u001b[0margwhere\u001b[0m\u001b[0;34m(\u001b[0m \u001b[0mnp\u001b[0m\u001b[0;34m.\u001b[0m\u001b[0mlogical_or\u001b[0m\u001b[0;34m(\u001b[0m\u001b[0;34m(\u001b[0m\u001b[0my_test\u001b[0m\u001b[0;34m.\u001b[0m\u001b[0mravel\u001b[0m\u001b[0;34m(\u001b[0m\u001b[0;34m)\u001b[0m \u001b[0;34m==\u001b[0m \u001b[0;36m1\u001b[0m\u001b[0;34m)\u001b[0m\u001b[0;34m,\u001b[0m \u001b[0;34m(\u001b[0m\u001b[0my_test\u001b[0m\u001b[0;34m.\u001b[0m\u001b[0mravel\u001b[0m\u001b[0;34m(\u001b[0m\u001b[0;34m)\u001b[0m \u001b[0;34m==\u001b[0m \u001b[0;36m3\u001b[0m\u001b[0;34m)\u001b[0m\u001b[0;34m)\u001b[0m   \u001b[0;34m)\u001b[0m\u001b[0;34m\u001b[0m\u001b[0;34m\u001b[0m\u001b[0m\n\u001b[1;32m      4\u001b[0m \u001b[0;34m\u001b[0m\u001b[0m\n\u001b[1;32m      5\u001b[0m \u001b[0mX_train\u001b[0m \u001b[0;34m=\u001b[0m \u001b[0mX_train\u001b[0m\u001b[0;34m[\u001b[0m \u001b[0mindices_train\u001b[0m \u001b[0;34m]\u001b[0m\u001b[0;34m.\u001b[0m\u001b[0mreshape\u001b[0m\u001b[0;34m(\u001b[0m\u001b[0;34m-\u001b[0m\u001b[0;36m1\u001b[0m\u001b[0;34m,\u001b[0m \u001b[0;36m32\u001b[0m\u001b[0;34m,\u001b[0m\u001b[0;36m32\u001b[0m\u001b[0;34m,\u001b[0m\u001b[0;36m3\u001b[0m\u001b[0;34m)\u001b[0m\u001b[0;34m\u001b[0m\u001b[0;34m\u001b[0m\u001b[0m\n",
            "\u001b[0;31mNameError\u001b[0m: name 'np' is not defined"
          ]
        }
      ]
    },
    {
      "cell_type": "code",
      "source": [
        "y_test"
      ],
      "metadata": {
        "colab": {
          "base_uri": "https://localhost:8080/"
        },
        "id": "IAR3wsJ1pcfs",
        "outputId": "c94e63d1-6b34-49d4-f74a-b431e676423f"
      },
      "execution_count": null,
      "outputs": [
        {
          "output_type": "execute_result",
          "data": {
            "text/plain": [
              "array([[[False]],\n",
              "\n",
              "       [[ True]],\n",
              "\n",
              "       [[False]],\n",
              "\n",
              "       ...,\n",
              "\n",
              "       [[False]],\n",
              "\n",
              "       [[False]],\n",
              "\n",
              "       [[ True]]])"
            ]
          },
          "metadata": {},
          "execution_count": 13
        }
      ]
    },
    {
      "cell_type": "markdown",
      "metadata": {
        "id": "Dzq_yrbgAPMJ"
      },
      "source": [
        "**Criando o modelo de classificação**"
      ]
    },
    {
      "cell_type": "markdown",
      "metadata": {
        "id": "_otsS45jG2Q8"
      },
      "source": [
        "A estratégia do modelo é utilizar um conjunto de camadas convolucionais como extratores de padrões, refinando a informação em features mais expressivas que possam ser enviadas para o classificador MLP. "
      ]
    },
    {
      "cell_type": "code",
      "metadata": {
        "id": "TMPhT-nQS-1T"
      },
      "source": [
        "## Instanciando o modelo\n",
        "model = keras.models.Sequential([\n",
        "  keras.layers.Conv2D(  8, (8,8), activation=\"relu\", input_shape = (32,32,3) ), # 8 filtros de tamanho 8x8\n",
        "  keras.layers.Conv2D(  8, (8,8), activation=\"relu\" ), # 8 filtros de tamanho 8x8\n",
        "  keras.layers.Conv2D( 16, (6,6), activation=\"relu\" ), # 16 filtros de tamanho 6x6\n",
        "  keras.layers.Conv2D( 32, (4,4), activation=\"relu\" ), # 32 filtros de tamanho 4x4\n",
        "                                                       # Fim da rede convolucional\n",
        "  keras.layers.Flatten(),                              # Rede MLP para classificação\n",
        "  keras.layers.Dense(512, activation='relu'),\n",
        "  keras.layers.Dense(256, activation='relu'),\n",
        "  keras.layers.Dense(64 , activation='relu'),\n",
        "  keras.layers.Dense(1, activation='sigmoid'),\n",
        "])"
      ],
      "execution_count": null,
      "outputs": []
    },
    {
      "cell_type": "markdown",
      "metadata": {
        "id": "tb4biAPjLJZo"
      },
      "source": [
        "Com o *.summary()*, visualizamos a arquitetura em detalhes da rede."
      ]
    },
    {
      "cell_type": "code",
      "metadata": {
        "colab": {
          "base_uri": "https://localhost:8080/",
          "height": 171
        },
        "id": "vhzCzSQ-TeWT",
        "outputId": "ae4e30c5-2cda-45ca-d391-5c9929f3db11"
      },
      "source": [
        "model.summary()"
      ],
      "execution_count": null,
      "outputs": [
        {
          "output_type": "error",
          "ename": "NameError",
          "evalue": "ignored",
          "traceback": [
            "\u001b[0;31m---------------------------------------------------------------------------\u001b[0m",
            "\u001b[0;31mNameError\u001b[0m                                 Traceback (most recent call last)",
            "\u001b[0;32m<ipython-input-2-5f15418b3570>\u001b[0m in \u001b[0;36m<module>\u001b[0;34m()\u001b[0m\n\u001b[0;32m----> 1\u001b[0;31m \u001b[0mmodel\u001b[0m\u001b[0;34m.\u001b[0m\u001b[0msummary\u001b[0m\u001b[0;34m(\u001b[0m\u001b[0;34m)\u001b[0m\u001b[0;34m\u001b[0m\u001b[0;34m\u001b[0m\u001b[0m\n\u001b[0m",
            "\u001b[0;31mNameError\u001b[0m: name 'model' is not defined"
          ]
        }
      ]
    },
    {
      "cell_type": "markdown",
      "metadata": {
        "id": "BhYrH1GqAKCY"
      },
      "source": [
        "**Treinando o modelo**"
      ]
    },
    {
      "cell_type": "code",
      "metadata": {
        "id": "wJq2c0A0cFOq"
      },
      "source": [
        "# Treinando o modelo\n",
        "model.compile( optimizer='adam', loss='binary_crossentropy', metrics='accuracy' )\n",
        "model.fit(x=X_train, y=y_train, epochs=30, validation_data=(X_test, y_test), \n",
        "          callbacks=[keras.callbacks.EarlyStopping(patience=3)] )"
      ],
      "execution_count": null,
      "outputs": []
    },
    {
      "cell_type": "markdown",
      "metadata": {
        "id": "amQ_8oJ7-M0Q"
      },
      "source": [
        "A arquitetura acima foi capaz de chegar a mais de 90% de acurácia nos dados de teste, para um modelo simples e fácil de treinar, é um valor bastante expressivo, que demonstra o potencial das redes neurais convolucionais no processamento de imagens.\n",
        "\n",
        "---"
      ]
    },
    {
      "cell_type": "markdown",
      "metadata": {
        "id": "qCJbF3t2boxj"
      },
      "source": [
        "**Visualizando feature maps**"
      ]
    },
    {
      "cell_type": "markdown",
      "metadata": {
        "id": "QhfiejhuYdQ5"
      },
      "source": [
        "Para entender um pouco mais do que o modelo está fazendo, vamos visualizar os chamados **Feature maps**, que são as transformações feitas no dado original pela rede CNN."
      ]
    },
    {
      "cell_type": "code",
      "metadata": {
        "id": "pUQFZfI3dXUi"
      },
      "source": [
        "# Seleção das layers Convolucionais do modelo\n",
        "cnn_models = [ \n",
        "  keras.models.Sequential( model.layers[:1] ),\n",
        "  keras.models.Sequential( model.layers[:2] ),\n",
        "  keras.models.Sequential( model.layers[:3] ),\n",
        "  keras.models.Sequential( model.layers[:4] )\n",
        "]"
      ],
      "execution_count": null,
      "outputs": []
    },
    {
      "cell_type": "code",
      "metadata": {
        "colab": {
          "base_uri": "https://localhost:8080/",
          "height": 1000
        },
        "id": "ID91Ha2JeBd0",
        "outputId": "5220c741-2a98-4f1b-81d3-0a5e03abf976"
      },
      "source": [
        "def imprimir_filtros( img, model ):\n",
        "  img_features = model( img.reshape(1, 32, 32, 3) )\n",
        "\n",
        "  num_filtros = img_features.shape[-1]\n",
        "\n",
        "  fig, axs = plt.subplots(nrows=int(num_filtros/8), ncols=8)\n",
        "  axs_flatten = axs.flatten()\n",
        "  fig.suptitle('{:d} Feature maps {:d}x{:d}'.format(img_features.shape[-1], \n",
        "                                                   img_features.shape[-2],\n",
        "                                                   img_features.shape[-3] ) )\n",
        "  for i in range( num_filtros ):\n",
        "    axs_flatten[i].axis('off')\n",
        "    axs_flatten[i].imshow( img_features[0,:,:,i] )\n",
        "\n",
        "img = X_train[0]\n",
        "plt.imshow( img )\n",
        "plt.title(\"Imagem original\")\n",
        "imprimir_filtros( img, cnn_models[0] )\n",
        "imprimir_filtros( img, cnn_models[1] )\n",
        "imprimir_filtros( img, cnn_models[2] )\n",
        "imprimir_filtros( img, cnn_models[3] )"
      ],
      "execution_count": null,
      "outputs": [
        {
          "output_type": "display_data",
          "data": {
            "image/png": "[encoded data removed]",
            "text/plain": [
              "<Figure size 432x288 with 1 Axes>"
            ]
          },
          "metadata": {
            "tags": [],
            "needs_background": "light"
          }
        },
        {
          "output_type": "display_data",
          "data": {
            "image/png": "[encoded data removed]",
            "text/plain": [
              "<Figure size 432x288 with 8 Axes>"
            ]
          },
          "metadata": {
            "tags": [],
            "needs_background": "light"
          }
        },
        {
          "output_type": "display_data",
          "data": {
            "image/png": "[encoded data removed]",
            "text/plain": [
              "<Figure size 432x288 with 8 Axes>"
            ]
          },
          "metadata": {
            "tags": [],
            "needs_background": "light"
          }
        },
        {
          "output_type": "display_data",
          "data": {
            "image/png": "[encoded data removed]",
            "text/plain": [
              "<Figure size 432x288 with 16 Axes>"
            ]
          },
          "metadata": {
            "tags": [],
            "needs_background": "light"
          }
        },
        {
          "output_type": "display_data",
          "data": {
            "image/png": "[encoded data removed]",
            "text/plain": [
              "<Figure size 432x288 with 32 Axes>"
            ]
          },
          "metadata": {
            "tags": [],
            "needs_background": "light"
          }
        }
      ]
    },
    {
      "cell_type": "markdown",
      "metadata": {
        "id": "DFWAkL1szuVt"
      },
      "source": [
        "Analisando as imagens acima notamos que a rede inicialmente aponta para padrões gerais, por isso, sua resposta é ampla e ocupa quase toda a imagem. Conforme a profundidade aumenta, os padrões se tornam cada vez mais específicos e complexos (como rodas, janelas, focinhos, mãos), e por isso a reposta se torna mais local.\n",
        "\n",
        "A resposta a esses padrões complexos é então enviada ao modelo classificador, que agora recebe features muito mais expressivas, compreensíveis e descritivas dos dados originais. Com isso, a rede final se torna capaz de efetuar uma classificação de alta acurácia.\n",
        "\n",
        "\n",
        "<a href=\"https://ibb.co/VqfrHpB\"><img src=\"https://i.ibb.co/vj0gsvz/CNNclassifier.jpg\" alt=\"Desenho-sem-t-tulo\" border=\"0\" width=480 height=360\n",
        "style=\"display: block; margin-left: auto; margin-right: auto;width: 50%;\"></a>\n",
        "<figcaption> Figura 11 - Funcionamento de classificador com rede convolucional </figcaption>"
      ]
    },
    {
      "cell_type": "markdown",
      "metadata": {
        "id": "28exCdaGK5Da"
      },
      "source": [
        "### Implementando um classificador textual"
      ]
    },
    {
      "cell_type": "markdown",
      "metadata": {
        "id": "A_kUmPl_NEaL"
      },
      "source": [
        "Embora a maioria das aplicações das CNNs seja no contexto de imagens, elas possuem grande potencial em outras áreas. O modelo que iremos implementar nesta seção é relativo à área de *Natural Language Processing (NLP)*.\n"
      ]
    },
    {
      "cell_type": "markdown",
      "metadata": {
        "id": "6CFkpks1POU1"
      },
      "source": [
        "**Dados do problema**"
      ]
    },
    {
      "cell_type": "markdown",
      "metadata": {
        "id": "wF-gBbNkPXEe"
      },
      "source": [
        "Para esta tarefa, selecionamos o dataset SMSSpam, que contém aproximadamente 5000 SMS classificados como SPAM ou não-SPAM. Esse dataset é particularmente bom para testarmos o potencial das CNN, pois contém textos curtos e fáceis de compreender."
      ]
    },
    {
      "cell_type": "code",
      "metadata": {
        "colab": {
          "base_uri": "https://localhost:8080/"
        },
        "id": "6utTyGf7w2up",
        "outputId": "c230df45-d044-4adc-b72b-7f9c6afaa38a"
      },
      "source": [
        "# Download do dataset\n",
        "!wget \"http://archive.ics.uci.edu/ml/machine-learning-databases/00228/smsspamcollection.zip\"\n",
        "!unzip smsspamcollection.zip"
      ],
      "execution_count": null,
      "outputs": [
        {
          "output_type": "stream",
          "name": "stdout",
          "text": [
            "--2022-01-13 14:13:42--  http://archive.ics.uci.edu/ml/machine-learning-databases/00228/smsspamcollection.zip\n",
            "Resolving archive.ics.uci.edu (archive.ics.uci.edu)... 128.195.10.252\n",
            "Connecting to archive.ics.uci.edu (archive.ics.uci.edu)|128.195.10.252|:80... connected.\n",
            "HTTP request sent, awaiting response... 200 OK\n",
            "Length: 203415 (199K) [application/x-httpd-php]\n",
            "Saving to: ‘smsspamcollection.zip’\n",
            "\n",
            "smsspamcollection.z 100%[===================>] 198.65K   903KB/s    in 0.2s    \n",
            "\n",
            "2022-01-13 14:13:42 (903 KB/s) - ‘smsspamcollection.zip’ saved [203415/203415]\n",
            "\n",
            "Archive:  smsspamcollection.zip\n",
            "  inflating: SMSSpamCollection       \n",
            "  inflating: readme                  \n"
          ]
        }
      ]
    },
    {
      "cell_type": "markdown",
      "metadata": {
        "id": "w6ppDdZw0s3m"
      },
      "source": [
        "Com o dataset carregado, podemos importa-lo usando o pandas."
      ]
    },
    {
      "cell_type": "code",
      "metadata": {
        "colab": {
          "base_uri": "https://localhost:8080/",
          "height": 363
        },
        "id": "HL4D6zxVw-_0",
        "outputId": "2be94daa-bc3f-46b9-ad54-293fbcc3c449"
      },
      "source": [
        "# Importando com o pandas\n",
        "import pandas as pd\n",
        "sms_data = pd.read_table(\"SMSSpamCollection\", header=None)\n",
        "\n",
        "# Renomeando as colunas\n",
        "sms_data.rename(columns={0:'spam',1:'text'}, inplace=True) \n",
        "\n",
        "# Visualizando alguns textos\n",
        "sms_data.head(10)"
      ],
      "execution_count": null,
      "outputs": [
        {
          "output_type": "execute_result",
          "data": {
            "text/html": [
              "\n",
              "  <div id=\"df-f48213e6-4400-439c-aa00-ffe85e61ec88\">\n",
              "    <div class=\"colab-df-container\">\n",
              "      <div>\n",
              "<style scoped>\n",
              "    .dataframe tbody tr th:only-of-type {\n",
              "        vertical-align: middle;\n",
              "    }\n",
              "\n",
              "    .dataframe tbody tr th {\n",
              "        vertical-align: top;\n",
              "    }\n",
              "\n",
              "    .dataframe thead th {\n",
              "        text-align: right;\n",
              "    }\n",
              "</style>\n",
              "<table border=\"1\" class=\"dataframe\">\n",
              "  <thead>\n",
              "    <tr style=\"text-align: right;\">\n",
              "      <th></th>\n",
              "      <th>spam</th>\n",
              "      <th>text</th>\n",
              "    </tr>\n",
              "  </thead>\n",
              "  <tbody>\n",
              "    <tr>\n",
              "      <th>0</th>\n",
              "      <td>ham</td>\n",
              "      <td>Go until jurong point, crazy.. Available only ...</td>\n",
              "    </tr>\n",
              "    <tr>\n",
              "      <th>1</th>\n",
              "      <td>ham</td>\n",
              "      <td>Ok lar... Joking wif u oni...</td>\n",
              "    </tr>\n",
              "    <tr>\n",
              "      <th>2</th>\n",
              "      <td>spam</td>\n",
              "      <td>Free entry in 2 a wkly comp to win FA Cup fina...</td>\n",
              "    </tr>\n",
              "    <tr>\n",
              "      <th>3</th>\n",
              "      <td>ham</td>\n",
              "      <td>U dun say so early hor... U c already then say...</td>\n",
              "    </tr>\n",
              "    <tr>\n",
              "      <th>4</th>\n",
              "      <td>ham</td>\n",
              "      <td>Nah I don't think he goes to usf, he lives aro...</td>\n",
              "    </tr>\n",
              "    <tr>\n",
              "      <th>5</th>\n",
              "      <td>spam</td>\n",
              "      <td>FreeMsg Hey there darling it's been 3 week's n...</td>\n",
              "    </tr>\n",
              "    <tr>\n",
              "      <th>6</th>\n",
              "      <td>ham</td>\n",
              "      <td>Even my brother is not like to speak with me. ...</td>\n",
              "    </tr>\n",
              "    <tr>\n",
              "      <th>7</th>\n",
              "      <td>ham</td>\n",
              "      <td>As per your request 'Melle Melle (Oru Minnamin...</td>\n",
              "    </tr>\n",
              "    <tr>\n",
              "      <th>8</th>\n",
              "      <td>spam</td>\n",
              "      <td>WINNER!! As a valued network customer you have...</td>\n",
              "    </tr>\n",
              "    <tr>\n",
              "      <th>9</th>\n",
              "      <td>spam</td>\n",
              "      <td>Had your mobile 11 months or more? U R entitle...</td>\n",
              "    </tr>\n",
              "  </tbody>\n",
              "</table>\n",
              "</div>\n",
              "      <button class=\"colab-df-convert\" onclick=\"convertToInteractive('df-f48213e6-4400-439c-aa00-ffe85e61ec88')\"\n",
              "              title=\"Convert this dataframe to an interactive table.\"\n",
              "              style=\"display:none;\">\n",
              "        \n",
              "  <svg xmlns=\"http://www.w3.org/2000/svg\" height=\"24px\"viewBox=\"0 0 24 24\"\n",
              "       width=\"24px\">\n",
              "    <path d=\"M0 0h24v24H0V0z\" fill=\"none\"/>\n",
              "    <path d=\"M18.56 5.44l.94 2.06.94-2.06 2.06-.94-2.06-.94-.94-2.06-.94 2.06-2.06.94zm-11 1L8.5 8.5l.94-2.06 2.06-.94-2.06-.94L8.5 2.5l-.94 2.06-2.06.94zm10 10l.94 2.06.94-2.06 2.06-.94-2.06-.94-.94-2.06-.94 2.06-2.06.94z\"/><path d=\"M17.41 7.96l-1.37-1.37c-.4-.4-.92-.59-1.43-.59-.52 0-1.04.2-1.43.59L10.3 9.45l-7.72 7.72c-.78.78-.78 2.05 0 2.83L4 21.41c.39.39.9.59 1.41.59.51 0 1.02-.2 1.41-.59l7.78-7.78 2.81-2.81c.8-.78.8-2.07 0-2.86zM5.41 20L4 18.59l7.72-7.72 1.47 1.35L5.41 20z\"/>\n",
              "  </svg>\n",
              "      </button>\n",
              "      \n",
              "  <style>\n",
              "    .colab-df-container {\n",
              "      display:flex;\n",
              "      flex-wrap:wrap;\n",
              "      gap: 12px;\n",
              "    }\n",
              "\n",
              "    .colab-df-convert {\n",
              "      background-color: #E8F0FE;\n",
              "      border: none;\n",
              "      border-radius: 50%;\n",
              "      cursor: pointer;\n",
              "      display: none;\n",
              "      fill: #1967D2;\n",
              "      height: 32px;\n",
              "      padding: 0 0 0 0;\n",
              "      width: 32px;\n",
              "    }\n",
              "\n",
              "    .colab-df-convert:hover {\n",
              "      background-color: #E2EBFA;\n",
              "      box-shadow: 0px 1px 2px rgba(60, 64, 67, 0.3), 0px 1px 3px 1px rgba(60, 64, 67, 0.15);\n",
              "      fill: #174EA6;\n",
              "    }\n",
              "\n",
              "    [theme=dark] .colab-df-convert {\n",
              "      background-color: #3B4455;\n",
              "      fill: #D2E3FC;\n",
              "    }\n",
              "\n",
              "    [theme=dark] .colab-df-convert:hover {\n",
              "      background-color: #434B5C;\n",
              "      box-shadow: 0px 1px 3px 1px rgba(0, 0, 0, 0.15);\n",
              "      filter: drop-shadow(0px 1px 2px rgba(0, 0, 0, 0.3));\n",
              "      fill: #FFFFFF;\n",
              "    }\n",
              "  </style>\n",
              "\n",
              "      <script>\n",
              "        const buttonEl =\n",
              "          document.querySelector('#df-f48213e6-4400-439c-aa00-ffe85e61ec88 button.colab-df-convert');\n",
              "        buttonEl.style.display =\n",
              "          google.colab.kernel.accessAllowed ? 'block' : 'none';\n",
              "\n",
              "        async function convertToInteractive(key) {\n",
              "          const element = document.querySelector('#df-f48213e6-4400-439c-aa00-ffe85e61ec88');\n",
              "          const dataTable =\n",
              "            await google.colab.kernel.invokeFunction('convertToInteractive',\n",
              "                                                     [key], {});\n",
              "          if (!dataTable) return;\n",
              "\n",
              "          const docLinkHtml = 'Like what you see? Visit the ' +\n",
              "            '<a target=\"_blank\" href=https://colab.research.google.com/notebooks/data_table.ipynb>data table notebook</a>'\n",
              "            + ' to learn more about interactive tables.';\n",
              "          element.innerHTML = '';\n",
              "          dataTable['output_type'] = 'display_data';\n",
              "          await google.colab.output.renderOutput(dataTable, element);\n",
              "          const docLink = document.createElement('div');\n",
              "          docLink.innerHTML = docLinkHtml;\n",
              "          element.appendChild(docLink);\n",
              "        }\n",
              "      </script>\n",
              "    </div>\n",
              "  </div>\n",
              "  "
            ],
            "text/plain": [
              "   spam                                               text\n",
              "0   ham  Go until jurong point, crazy.. Available only ...\n",
              "1   ham                      Ok lar... Joking wif u oni...\n",
              "2  spam  Free entry in 2 a wkly comp to win FA Cup fina...\n",
              "3   ham  U dun say so early hor... U c already then say...\n",
              "4   ham  Nah I don't think he goes to usf, he lives aro...\n",
              "5  spam  FreeMsg Hey there darling it's been 3 week's n...\n",
              "6   ham  Even my brother is not like to speak with me. ...\n",
              "7   ham  As per your request 'Melle Melle (Oru Minnamin...\n",
              "8  spam  WINNER!! As a valued network customer you have...\n",
              "9  spam  Had your mobile 11 months or more? U R entitle..."
            ]
          },
          "metadata": {},
          "execution_count": 8
        }
      ]
    },
    {
      "cell_type": "markdown",
      "metadata": {
        "id": "1MlzVkii04hw"
      },
      "source": [
        "Para utiliza-lo no modelo, precisamos mapear numéricamente os dados da coluna SPAM."
      ]
    },
    {
      "cell_type": "code",
      "metadata": {
        "id": "uEaXJ5xMxCj4"
      },
      "source": [
        "# Mapeando 1 - Spam, 0 - Ham \n",
        "sms_data['spam'] = sms_data['spam'].map({\"spam\":1,\"ham\":0})"
      ],
      "execution_count": null,
      "outputs": []
    },
    {
      "cell_type": "markdown",
      "metadata": {
        "id": "c4PdkgBD11-9"
      },
      "source": [
        "Este dataset possui um desbalanço nas classes, já que existem muito mais não-SPAMS do que SPAMS. Para resolver isso, triplicaremos os dados de SPAM. \n",
        "\n",
        "*OBS. Sendo extreamemnte rigoroso, esse processo deveria ser feito com mais cautela, mas como nosso objetivo é somente aplicar os exemplos às redes convolucionais, podemos continuar assim*"
      ]
    },
    {
      "cell_type": "code",
      "metadata": {
        "colab": {
          "base_uri": "https://localhost:8080/"
        },
        "id": "Bs82x5sw2mIf",
        "outputId": "f144c455-31b4-42d7-bfaf-b64496f95d51"
      },
      "source": [
        "print(\"Dados antes do aumento\")\n",
        "sms_data['spam'].value_counts()"
      ],
      "execution_count": null,
      "outputs": [
        {
          "output_type": "stream",
          "name": "stdout",
          "text": [
            "Dados antes do aumento\n"
          ]
        },
        {
          "output_type": "execute_result",
          "data": {
            "text/plain": [
              "0    4825\n",
              "1     747\n",
              "Name: spam, dtype: int64"
            ]
          },
          "metadata": {},
          "execution_count": 10
        }
      ]
    },
    {
      "cell_type": "code",
      "metadata": {
        "colab": {
          "base_uri": "https://localhost:8080/"
        },
        "id": "sQtRn89rxIjD",
        "outputId": "337236d3-3fb7-4495-f379-926dbb2632e8"
      },
      "source": [
        "positive_spam = sms_data.query(\"spam == 1\")\n",
        "sms_data = sms_data.append(positive_spam).append(positive_spam)\n",
        "\n",
        "print(\"Dados depois do aumento\")\n",
        "sms_data['spam'].value_counts()"
      ],
      "execution_count": null,
      "outputs": [
        {
          "output_type": "stream",
          "name": "stdout",
          "text": [
            "Dados depois do aumento\n"
          ]
        },
        {
          "output_type": "execute_result",
          "data": {
            "text/plain": [
              "0    4825\n",
              "1    2241\n",
              "Name: spam, dtype: int64"
            ]
          },
          "metadata": {},
          "execution_count": 11
        }
      ]
    },
    {
      "cell_type": "markdown",
      "metadata": {
        "id": "YdS4g-8_2zOA"
      },
      "source": [
        "Para separar os dados de treino e teste, utilizaremos a biblioteca sklearn."
      ]
    },
    {
      "cell_type": "code",
      "metadata": {
        "colab": {
          "base_uri": "https://localhost:8080/"
        },
        "id": "zNgDS2mQxNId",
        "outputId": "32fcbe34-b2cd-44f9-9966-27ac7afef2af"
      },
      "source": [
        "from sklearn.model_selection import train_test_split\n",
        "text = sms_data['text']\n",
        "X_train, X_test, y_train, y_test = train_test_split(text, sms_data['spam'].to_numpy(), test_size=0.25,\n",
        "                                                    stratify=sms_data['spam'].to_numpy()) \n",
        "\n",
        "print(\"X_train shape:\")\n",
        "print(len(X_train))\n",
        "print(\"X_test shape:\")\n",
        "print(len(X_test))"
      ],
      "execution_count": null,
      "outputs": [
        {
          "output_type": "stream",
          "name": "stdout",
          "text": [
            "X_train shape:\n",
            "5299\n",
            "X_test shape:\n",
            "1767\n"
          ]
        }
      ]
    },
    {
      "cell_type": "markdown",
      "metadata": {
        "id": "o9Dcg92MWRKY"
      },
      "source": [
        "**Definindo o modelo**"
      ]
    },
    {
      "cell_type": "markdown",
      "metadata": {
        "id": "ov57agJ4WZLQ"
      },
      "source": [
        "Com os dados em mãos, basta definir a estratégia escolhida para atacar o problema, e então criar arquitetura da rede.\n",
        "Primeiramente, precisamos escolher como nosso dado será representado. No contexto das imagens, o *pixel* é a unidade básica sobre qual a rede opera, no nosso caso, escolheremos o *caractere*. Dessa forma, um texto será representado por um vetor de caracteres.\n",
        "\n",
        "$ \\text{Meu texto} \\rightarrow \\left[ [M],[e],[u],[\\ ],[t],[e],[x],[t],[o]\\right] $\n",
        "\n",
        "Para transformar os dados em valores numéricos, usaremos o valor de cada caractere da tabela ASCII. \n",
        "Como as sequências textuais possuem tamanhos diferentes, iremos escolher um tamanho padrão para todas elas, as menores receberão espaços à direita e as maiores serão truncadas."
      ]
    },
    {
      "cell_type": "code",
      "metadata": {
        "colab": {
          "base_uri": "https://localhost:8080/"
        },
        "id": "IeY7qD6HZjip",
        "outputId": "f257bac0-b230-4f66-c073-478304857dcf"
      },
      "source": [
        "# Escolhendo o tamanho que engloba 95% dos textos\n",
        "maior_tamanho_string = int(np.quantile( np.array([len(text) for text in X_train]), 0.95))\n",
        "\n",
        "# funções responsáveis pela transformação\n",
        "equalizar_sequencia = lambda texto, tamanho : texto.ljust( tamanho, ' ' )[:tamanho]\n",
        "transformar_ascii = lambda texto : [ [ord(c)] for c in texto]\n",
        "\n",
        "# Equalizando o tamanho de todas as sequencias - Padding\n",
        "X_train_pad = [ equalizar_sequencia(text, maior_tamanho_string) for text in X_train]\n",
        "X_test_pad = [ equalizar_sequencia(text, maior_tamanho_string) for text in X_test]\n",
        "\n",
        "# Transformando cada caractere em um valor numérico\n",
        "X_train_final = np.array( [ transformar_ascii(text) for text in X_train_pad ])\n",
        "X_test_final = np.array( [ transformar_ascii(text) for text in X_test_pad ])\n",
        "\n",
        "print(\"Tamanho das sequências: \", maior_tamanho_string)\n",
        "print(X_train_final.shape)\n",
        "print(X_test_final.shape)"
      ],
      "execution_count": null,
      "outputs": [
        {
          "output_type": "stream",
          "name": "stdout",
          "text": [
            "Tamanho das sequências:  161\n",
            "(5299, 161, 1)\n",
            "(1767, 161, 1)\n"
          ]
        }
      ]
    },
    {
      "cell_type": "markdown",
      "metadata": {
        "id": "Mjm_kzKfbyDT"
      },
      "source": [
        "Pela natureza desses dados, já conseguimos perceber que a nossa rede terá camadas de convolução 1D, e seus filtros vão se deslocar pelos caracteres das frases.\n",
        "\n",
        "Algo importante de se pontuar é *o que exatamente os fitros irão aprender?* Assim como na imagem, na escrita também existem padrões de baixo nível e alto nível. Provavelmente, as camadas iniciais da rede aprenderão alguns posicionamentos específicos de letras e sílabas. Conforme a profundidade aumenta, espera-se que ela aprenda a identificar palavras-chave, termos importantes, e até frases completas."
      ]
    },
    {
      "cell_type": "markdown",
      "metadata": {
        "id": "PzMcORmVhzi1"
      },
      "source": [
        "**Criando o modelo de classificação**"
      ]
    },
    {
      "cell_type": "markdown",
      "metadata": {
        "id": "0FhOaroPEDMl"
      },
      "source": [
        "Nesta arquitetura, aproveitando a grande dimensionalidade das features de entrada, poderemos aplicar camadas de Pooling."
      ]
    },
    {
      "cell_type": "code",
      "metadata": {
        "id": "uT1JyF4moqAo"
      },
      "source": [
        "keras.backend.clear_session()"
      ],
      "execution_count": null,
      "outputs": []
    },
    {
      "cell_type": "markdown",
      "metadata": {
        "id": "tq8Q1RX7Pa0C"
      },
      "source": [
        "Todas as layers possuem padding=\"same\", a redução de dimensionalidade vem apenas das camadas de pooling. Como textos são dados muito ruidosos, adicionamos várias camadas de BatchNormalization para evitar overfitting."
      ]
    },
    {
      "cell_type": "code",
      "metadata": {
        "id": "AkxeoSuIh1ql"
      },
      "source": [
        "text_model = keras.models.Sequential([\n",
        "  # Arquitetura convolucional\n",
        "  # todas as layers possuem padding=\"same\", a redução de dimensionalidade\n",
        "  # vem apenas das camadas de pooling\n",
        "  keras.layers.Conv1D(128, 16, padding=\"same\", activation=\"selu\", input_shape=X_train_final.shape[1:]),\n",
        "  keras.layers.MaxPool1D(2),\n",
        "  keras.layers.Conv1D(256, 8, padding=\"same\", activation=\"selu\"),\n",
        "  keras.layers.BatchNormalization(),\n",
        "  keras.layers.MaxPool1D(2),\n",
        "  keras.layers.Conv1D(256, 8, padding=\"same\", activation=\"selu\"),\n",
        "  keras.layers.BatchNormalization(),\n",
        "  keras.layers.MaxPool1D(2),\n",
        "  keras.layers.Conv1D(512, 4, padding=\"same\", activation=\"selu\"),\n",
        "  keras.layers.BatchNormalization(),\n",
        "  keras.layers.MaxPool1D(2),\n",
        "  keras.layers.Conv1D(512, 4, padding=\"same\", activation=\"selu\"),\n",
        "  keras.layers.BatchNormalization(),\n",
        "  keras.layers.Conv1D(512, 4, padding=\"same\", activation=\"selu\"),\n",
        "\n",
        "  keras.layers.Flatten(), # classificador \n",
        "  keras.layers.Dense(512, activation=\"selu\"),\n",
        "  keras.layers.BatchNormalization(),\n",
        "  keras.layers.Dense(216, activation=\"selu\"),\n",
        "  keras.layers.BatchNormalization(),\n",
        "  keras.layers.Dense(64, activation=\"selu\"),\n",
        "  keras.layers.Dense(1, activation=\"sigmoid\"),\n",
        "])"
      ],
      "execution_count": null,
      "outputs": []
    },
    {
      "cell_type": "code",
      "metadata": {
        "id": "G6QuWbVDivFd",
        "colab": {
          "base_uri": "https://localhost:8080/"
        },
        "outputId": "eeb222b7-9f63-4fe5-9ca9-66fd9f02177e"
      },
      "source": [
        "text_model.summary()"
      ],
      "execution_count": null,
      "outputs": [
        {
          "output_type": "stream",
          "name": "stdout",
          "text": [
            "Model: \"sequential\"\n",
            "_________________________________________________________________\n",
            " Layer (type)                Output Shape              Param #   \n",
            "=================================================================\n",
            " conv1d (Conv1D)             (None, 161, 128)          2176      \n",
            "                                                                 \n",
            " max_pooling1d (MaxPooling1D  (None, 80, 128)          0         \n",
            " )                                                               \n",
            "                                                                 \n",
            " conv1d_1 (Conv1D)           (None, 80, 256)           262400    \n",
            "                                                                 \n",
            " batch_normalization (BatchN  (None, 80, 256)          1024      \n",
            " ormalization)                                                   \n",
            "                                                                 \n",
            " max_pooling1d_1 (MaxPooling  (None, 40, 256)          0         \n",
            " 1D)                                                             \n",
            "                                                                 \n",
            " conv1d_2 (Conv1D)           (None, 40, 256)           524544    \n",
            "                                                                 \n",
            " batch_normalization_1 (Batc  (None, 40, 256)          1024      \n",
            " hNormalization)                                                 \n",
            "                                                                 \n",
            " max_pooling1d_2 (MaxPooling  (None, 20, 256)          0         \n",
            " 1D)                                                             \n",
            "                                                                 \n",
            " conv1d_3 (Conv1D)           (None, 20, 512)           524800    \n",
            "                                                                 \n",
            " batch_normalization_2 (Batc  (None, 20, 512)          2048      \n",
            " hNormalization)                                                 \n",
            "                                                                 \n",
            " max_pooling1d_3 (MaxPooling  (None, 10, 512)          0         \n",
            " 1D)                                                             \n",
            "                                                                 \n",
            " conv1d_4 (Conv1D)           (None, 10, 512)           1049088   \n",
            "                                                                 \n",
            " batch_normalization_3 (Batc  (None, 10, 512)          2048      \n",
            " hNormalization)                                                 \n",
            "                                                                 \n",
            " conv1d_5 (Conv1D)           (None, 10, 512)           1049088   \n",
            "                                                                 \n",
            " flatten (Flatten)           (None, 5120)              0         \n",
            "                                                                 \n",
            " dense (Dense)               (None, 512)               2621952   \n",
            "                                                                 \n",
            " batch_normalization_4 (Batc  (None, 512)              2048      \n",
            " hNormalization)                                                 \n",
            "                                                                 \n",
            " dense_1 (Dense)             (None, 216)               110808    \n",
            "                                                                 \n",
            " batch_normalization_5 (Batc  (None, 216)              864       \n",
            " hNormalization)                                                 \n",
            "                                                                 \n",
            " dense_2 (Dense)             (None, 64)                13888     \n",
            "                                                                 \n",
            " dense_3 (Dense)             (None, 1)                 65        \n",
            "                                                                 \n",
            "=================================================================\n",
            "Total params: 6,167,865\n",
            "Trainable params: 6,163,337\n",
            "Non-trainable params: 4,528\n",
            "_________________________________________________________________\n"
          ]
        }
      ]
    },
    {
      "cell_type": "code",
      "metadata": {
        "id": "eA5acf0dkX4T",
        "colab": {
          "base_uri": "https://localhost:8080/"
        },
        "outputId": "a93de8e0-ce22-4ea8-ce86-d67e6c169af4"
      },
      "source": [
        "text_model.compile(optimizer=\"nadam\", loss=\"binary_crossentropy\", metrics='accuracy')\n",
        "text_model.fit(x=X_train_final, y=y_train, epochs=100, validation_split=0.20,\n",
        "               callbacks=[keras.callbacks.EarlyStopping(patience=20, restore_best_weights=True)])"
      ],
      "execution_count": null,
      "outputs": [
        {
          "output_type": "stream",
          "name": "stdout",
          "text": [
            "Epoch 1/100\n",
            "133/133 [==============================] - 17s 29ms/step - loss: 0.3528 - accuracy: 0.8644 - val_loss: 0.8926 - val_accuracy: 0.7764\n",
            "Epoch 2/100\n",
            "133/133 [==============================] - 3s 21ms/step - loss: 0.2437 - accuracy: 0.9021 - val_loss: 0.2352 - val_accuracy: 0.9123\n",
            "Epoch 3/100\n",
            "133/133 [==============================] - 3s 21ms/step - loss: 0.2320 - accuracy: 0.9104 - val_loss: 0.4224 - val_accuracy: 0.8472\n",
            "Epoch 4/100\n",
            "133/133 [==============================] - 3s 21ms/step - loss: 0.2152 - accuracy: 0.9181 - val_loss: 1.4812 - val_accuracy: 0.6802\n",
            "Epoch 5/100\n",
            "133/133 [==============================] - 3s 20ms/step - loss: 0.1667 - accuracy: 0.9413 - val_loss: 1.5338 - val_accuracy: 0.6170\n",
            "Epoch 6/100\n",
            "133/133 [==============================] - 3s 21ms/step - loss: 0.1353 - accuracy: 0.9516 - val_loss: 0.3617 - val_accuracy: 0.8755\n",
            "Epoch 7/100\n",
            "133/133 [==============================] - 3s 22ms/step - loss: 0.1278 - accuracy: 0.9540 - val_loss: 0.5036 - val_accuracy: 0.7358\n",
            "Epoch 8/100\n",
            "133/133 [==============================] - 3s 21ms/step - loss: 0.1004 - accuracy: 0.9623 - val_loss: 0.8160 - val_accuracy: 0.7887\n",
            "Epoch 9/100\n",
            "133/133 [==============================] - 3s 20ms/step - loss: 0.0733 - accuracy: 0.9750 - val_loss: 1.9397 - val_accuracy: 0.6934\n",
            "Epoch 10/100\n",
            "133/133 [==============================] - 3s 21ms/step - loss: 0.0732 - accuracy: 0.9733 - val_loss: 1.7899 - val_accuracy: 0.7179\n",
            "Epoch 11/100\n",
            "133/133 [==============================] - 3s 20ms/step - loss: 0.0547 - accuracy: 0.9799 - val_loss: 1.4532 - val_accuracy: 0.5991\n",
            "Epoch 12/100\n",
            "133/133 [==============================] - 3s 20ms/step - loss: 0.0534 - accuracy: 0.9825 - val_loss: 0.9238 - val_accuracy: 0.7802\n",
            "Epoch 13/100\n",
            "133/133 [==============================] - 3s 20ms/step - loss: 0.0533 - accuracy: 0.9807 - val_loss: 6.4795 - val_accuracy: 0.6792\n",
            "Epoch 14/100\n",
            "133/133 [==============================] - 3s 21ms/step - loss: 0.0483 - accuracy: 0.9811 - val_loss: 3.5873 - val_accuracy: 0.4651\n",
            "Epoch 15/100\n",
            "133/133 [==============================] - 3s 21ms/step - loss: 0.0455 - accuracy: 0.9828 - val_loss: 0.2790 - val_accuracy: 0.9047\n",
            "Epoch 16/100\n",
            "133/133 [==============================] - 3s 21ms/step - loss: 0.0402 - accuracy: 0.9863 - val_loss: 3.0397 - val_accuracy: 0.5481\n",
            "Epoch 17/100\n",
            "133/133 [==============================] - 3s 20ms/step - loss: 0.0474 - accuracy: 0.9837 - val_loss: 2.5821 - val_accuracy: 0.5623\n",
            "Epoch 18/100\n",
            "133/133 [==============================] - 3s 21ms/step - loss: 0.0395 - accuracy: 0.9861 - val_loss: 0.3832 - val_accuracy: 0.8717\n",
            "Epoch 19/100\n",
            "133/133 [==============================] - 3s 21ms/step - loss: 0.0431 - accuracy: 0.9854 - val_loss: 0.3146 - val_accuracy: 0.8783\n",
            "Epoch 20/100\n",
            "133/133 [==============================] - 3s 21ms/step - loss: 0.0198 - accuracy: 0.9932 - val_loss: 1.7089 - val_accuracy: 0.7415\n",
            "Epoch 21/100\n",
            "133/133 [==============================] - 3s 21ms/step - loss: 0.0251 - accuracy: 0.9908 - val_loss: 3.3950 - val_accuracy: 0.4698\n",
            "Epoch 22/100\n",
            "133/133 [==============================] - 3s 21ms/step - loss: 0.0175 - accuracy: 0.9932 - val_loss: 0.3797 - val_accuracy: 0.8934\n"
          ]
        },
        {
          "output_type": "execute_result",
          "data": {
            "text/plain": [
              "<keras.callbacks.History at 0x7f9dc340b610>"
            ]
          },
          "metadata": {},
          "execution_count": 22
        }
      ]
    },
    {
      "cell_type": "markdown",
      "metadata": {
        "id": "rTIg-6wb8mzC"
      },
      "source": [
        "O modelo tenta prever classes em um conjunto desbalanceado, mesmo após o oversampling, o número de não-spams ainda é bem maior que o de spams.\n",
        "Portanto, não é ideal avalia-lo com a acurácia. Ao invés disso, utilizaremos as métricas recall, precision e f1."
      ]
    },
    {
      "cell_type": "code",
      "metadata": {
        "colab": {
          "base_uri": "https://localhost:8080/"
        },
        "id": "rgPOxwAQ8L80",
        "outputId": "440c0091-4311-4c70-9b3e-ca8960f37b07"
      },
      "source": [
        "from sklearn.metrics import recall_score, precision_score, f1_score, accuracy_score\n",
        "\n",
        "y_test_pred = np.array(text_model(X_test_final)).flatten() > 0.5\n",
        "\n",
        "print(f\"Accuracy score: {accuracy_score(y_test, y_test_pred).round(2)}\")\n",
        "print(f\"Recall score: {recall_score(y_test, y_test_pred).round(2)}\")\n",
        "print(f\"Precision score: {precision_score(y_test, y_test_pred).round(2)}\")\n",
        "print(f\"F1 score: {f1_score(y_test, y_test_pred).round(2)}\")\n"
      ],
      "execution_count": null,
      "outputs": [
        {
          "output_type": "stream",
          "name": "stdout",
          "text": [
            "Accuracy score: 0.89\n",
            "Recall score: 0.71\n",
            "Precision score: 0.93\n",
            "F1 score: 0.81\n"
          ]
        }
      ]
    },
    {
      "cell_type": "markdown",
      "metadata": {
        "id": "JjgnI0OO_umD"
      },
      "source": [
        "Em geral, nosso modelo apresenta uma ótima performace. \n",
        "\n",
        "Geralmente, para problemas como esse, que lidam com sequências, o ideal é que as redes convolucionais trabalhem em conjunto com outro tipo de arquitetura, as *recurrent neural networks* e/ou que as features passem por um preprocessamento mais refinado. Mesmo não sendo o cenário ideal, a rede conseguiu efetuar a tarefa com bons resultados, demonstrando, mais uma vez, o potencial das CNN."
      ]
    },
    {
      "cell_type": "markdown",
      "metadata": {
        "id": "EeUVjMhcIeMv"
      },
      "source": [
        "**Extra**"
      ]
    },
    {
      "cell_type": "markdown",
      "metadata": {
        "id": "GhhMkzyyIgz_"
      },
      "source": [
        "Como exercício extra, criaremos alguns SMS ficcionais e veremos a capacidade do modelo em classifica-los corretamente."
      ]
    },
    {
      "cell_type": "code",
      "metadata": {
        "colab": {
          "base_uri": "https://localhost:8080/"
        },
        "id": "a0h3CNavI3j-",
        "outputId": "282e4dc7-5f8d-4693-db5c-ecf9de126363"
      },
      "source": [
        "my_sms_ = [\"Hello Pedro, how are you???\", \n",
        "          \"Mom, i let the keys over the table\",\n",
        "          \"Cyntia! Last weekends draw shows that you won a U$1000 prize GUARANTEED. Call 09064012160.\",\n",
        "          \"John, congrats!! you won a special trip, call 99128199 to get your prize. You need to call in the next 24 hours\",\n",
        "          \"Check out all vivo's bonus offers available to your plan!! call 0800101515 and know more\",\n",
        "          \"Hello Pedro, i miss you, call me please...\",\n",
        "          \"The brazillian population has been afraid of crime?? Answer yes or no to 9909212\",\n",
        "          \"WINNER, you are the 5.000.000 amazon shop client and won a U$ 2.000.000 prize!!\",\n",
        "          \"Type MONEY in next 4 hours to easy get infinity amounts of money\",\n",
        "          \"URGENT! You have credits to spent. To use your credit, send U$ 2.00 to this number\"\n",
        "          ]\n",
        "\n",
        "# Tratando os dados\n",
        "my_sms = [equalizar_sequencia(text, maior_tamanho_string) for text in my_sms_]\n",
        "my_sms = np.array( [ transformar_ascii(text) for text in my_sms ])\n",
        "\n",
        "# Fazendo as predições\n",
        "my_y = np.array(text_model(my_sms))\n",
        "\n",
        "print(\"{:115s} {:10s}\".format(\" \"*10+\"Texto\", \"Chance de SPAM\"))\n",
        "for text, score in zip(my_sms_, my_y):\n",
        "  print(\"{:120s} {:6.1f} %\".format(text, 100*score[0]))"
      ],
      "execution_count": null,
      "outputs": [
        {
          "output_type": "stream",
          "name": "stdout",
          "text": [
            "          Texto                                                                                                     Chance de SPAM\n",
            "Hello Pedro, how are you???                                                                                                 0.4 %\n",
            "Mom, i let the keys over the table                                                                                          0.6 %\n",
            "Cyntia! Last weekends draw shows that you won a U$1000 prize GUARANTEED. Call 09064012160.                                 76.9 %\n",
            "John, congrats!! you won a special trip, call 99128199 to get your prize. You need to call in the next 24 hours            25.6 %\n",
            "Check out all vivo's bonus offers available to your plan!! call 0800101515 and know more                                   33.2 %\n",
            "Hello Pedro, i miss you, call me please...                                                                                  1.0 %\n",
            "The brazillian population has been afraid of crime?? Answer yes or no to 9909212                                           30.2 %\n",
            "WINNER, you are the 5.000.000 amazon shop client and won a U$ 2.000.000 prize!!                                            57.7 %\n",
            "Type MONEY in next 4 hours to easy get infinity amounts of money                                                            6.8 %\n",
            "URGENT! You have credits to spent. To use your credit, send U$ 2.00 to this number                                         42.1 %\n"
          ]
        }
      ]
    },
    {
      "cell_type": "markdown",
      "metadata": {
        "id": "5B0zc5SmxWPP"
      },
      "source": [
        "## Referências\n",
        "\n",
        "- Keras convolutional layers. Disponível em https://keras.io/api/layers/convolution_layers/.\n",
        "- Keras CIFAR10 small images classification dataset. Disponível em https://keras.io/api/datasets/cifar10/.\n",
        "- SMS Spam dataset. Disponível em https://archive.ics.uci.edu/ml/datasets/sms+spam+collection\n",
        "- A Gentle Introduction to Pooling Layers for Convolutional Neural Networks. Disponível em https://machinelearningmastery.com/.pooling-layers-for-convolutional-neural-networks/.\n",
        "- CNN explainer. Disponível em https://poloclub.github.io/cnn-explainer/.\n",
        "- GERON, Aurelien. *Hands-on machine learning with scikit-learn keras and tensorflow*. 2º edição. O'Reilly Media, Setembro de 2019.\n",
        "- GOLDBERG, Yoav. *Neural network methods in Natural Language Processing*. Graeme Hirst, Março de 2017; "
      ]
    }
  ]
}